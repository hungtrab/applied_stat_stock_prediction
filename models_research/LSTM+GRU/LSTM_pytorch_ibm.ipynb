{
 "cells": [
  {
   "cell_type": "code",
   "execution_count": 1,
   "metadata": {
    "executionInfo": {
     "elapsed": 22182,
     "status": "ok",
     "timestamp": 1746192789883,
     "user": {
      "displayName": "DANG VU Do",
      "userId": "03979436134324924570"
     },
     "user_tz": -420
    },
    "id": "sWAvRngzesnL"
   },
   "outputs": [],
   "source": [
    "import yfinance as yf\n",
    "import matplotlib.pyplot as plt\n",
    "import numpy as np\n",
    "import pandas as pd\n",
    "import torch\n",
    "import torch.nn as nn\n",
    "import torch.optim as optim\n",
    "from sklearn.preprocessing import MinMaxScaler\n",
    "from sklearn.metrics import mean_squared_error"
   ]
  },
  {
   "cell_type": "code",
   "execution_count": null,
   "metadata": {
    "colab": {
     "base_uri": "https://localhost:8080/",
     "height": 424
    },
    "executionInfo": {
     "elapsed": 94,
     "status": "ok",
     "timestamp": 1746192797345,
     "user": {
      "displayName": "DANG VU Do",
      "userId": "03979436134324924570"
     },
     "user_tz": -420
    },
    "id": "dJIuiCJ0eyER",
    "outputId": "f0a28903-a866-4b84-86f8-17c800115f6f"
   },
   "outputs": [],
   "source": [
    "df = pd.read_csv('../data/ibm_stock_prices_2000_2025.csv', parse_dates=['Date'], skiprows=[1]).drop(columns=['Adj Close', 'Volume'])\n",
    "df.set_index('Date', inplace=True)"
   ]
  },
  {
   "cell_type": "code",
   "execution_count": 6,
   "metadata": {
    "executionInfo": {
     "elapsed": 40,
     "status": "ok",
     "timestamp": 1746192816308,
     "user": {
      "displayName": "DANG VU Do",
      "userId": "03979436134324924570"
     },
     "user_tz": -420
    },
    "id": "Js6iUEBfPxFv"
   },
   "outputs": [],
   "source": [
    "def create_sequence(data: pd.DataFrame, seq_length: int):\n",
    "    X = []\n",
    "    y = []\n",
    "    for i in range(len(data) - seq_length):\n",
    "        X.append(data.iloc[i:i + seq_length, :])\n",
    "        y.append(data.iloc[i + seq_length, 3])\n",
    "    return np.array(X), np.array(y)"
   ]
  },
  {
   "cell_type": "markdown",
   "metadata": {
    "id": "FtrbTVZUdPrQ"
   },
   "source": [
    "#define model"
   ]
  },
  {
   "cell_type": "code",
   "execution_count": 7,
   "metadata": {
    "executionInfo": {
     "elapsed": 11,
     "status": "ok",
     "timestamp": 1746192825259,
     "user": {
      "displayName": "DANG VU Do",
      "userId": "03979436134324924570"
     },
     "user_tz": -420
    },
    "id": "wfHoMpjBVhVA"
   },
   "outputs": [],
   "source": [
    "class LSTMModel(nn.Module):\n",
    "  def __init__(self, input_size, hidden_size, output_size):\n",
    "    super(LSTMModel, self).__init__()\n",
    "    self.lstm = nn.LSTM(input_size, hidden_size, batch_first=True)\n",
    "    self.fc = nn.Linear(hidden_size, output_size)\n",
    "  def forward(self, x):\n",
    "    out, _ = self.lstm(x)\n",
    "    out = self.fc(out[:, -1, :])\n",
    "    return out"
   ]
  },
  {
   "cell_type": "code",
   "execution_count": 8,
   "metadata": {
    "executionInfo": {
     "elapsed": 43,
     "status": "ok",
     "timestamp": 1746193999170,
     "user": {
      "displayName": "DANG VU Do",
      "userId": "03979436134324924570"
     },
     "user_tz": -420
    },
    "id": "zapzOUAjZZ1w"
   },
   "outputs": [],
   "source": [
    "def train_model(model, criterion, optimizer, x_train, y_train, epochs=10, batch_size=30):\n",
    "  model.train()\n",
    "  for epoch in range(epochs):\n",
    "    for i in range(0, len(x_train), batch_size):\n",
    "      x_batch = x_train[i:i+batch_size]\n",
    "      y_batch = y_train[i:i+batch_size]\n",
    "      optimizer.zero_grad()\n",
    "      loss = criterion(model(x_batch),y_batch)\n",
    "      loss.backward()\n",
    "      optimizer.step()\n",
    "      print(f'Epoch [{epoch+1}/{epochs}], Loss: {loss.item():.4f}')"
   ]
  },
  {
   "cell_type": "code",
   "execution_count": 9,
   "metadata": {
    "executionInfo": {
     "elapsed": 7,
     "status": "ok",
     "timestamp": 1746194002117,
     "user": {
      "displayName": "DANG VU Do",
      "userId": "03979436134324924570"
     },
     "user_tz": -420
    },
    "id": "Li2AW5I-aSEv"
   },
   "outputs": [],
   "source": [
    "def evaluate_model(neurons, opt, x_train, y_train, x_test, y_test, epochs=10, batch_size=30):\n",
    "  model = LSTMModel(input_size = 4, hidden_size= neurons, output_size=1)\n",
    "  criterion = nn.MSELoss()\n",
    "  if opt == 'adam':\n",
    "    optimizer = torch.optim.Adam(model.parameters(), lr = 0.01)\n",
    "  else:\n",
    "    optimizer = torch.optim.SGD(model.parameters(), lr=0.01)\n",
    "\n",
    "  train_model(model, criterion, optimizer, x_train, y_train, epochs=epochs, batch_size=batch_size)\n",
    "  model.eval()\n",
    "  with torch.no_grad():\n",
    "    y_pred = model(x_test)\n",
    "  mse = criterion(y_test, y_pred)\n",
    "  return mse, model"
   ]
  },
  {
   "cell_type": "code",
   "execution_count": null,
   "metadata": {},
   "outputs": [
    {
     "name": "stdout",
     "output_type": "stream",
     "text": [
      "(5095, 20, 4) (1254, 20, 4) (5095,) (1254,)\n",
      "torch.Size([5095, 20, 4]) torch.Size([1254, 20, 4]) torch.Size([5095, 1]) torch.Size([1254, 1])\n"
     ]
    }
   ],
   "source": [
    "seq_lengths = [20, 30, 40, 50]\n",
    "logger = []\n",
    "num_features = 4\n",
    "for seq_length in seq_lengths:\n",
    "    X,y = create_sequence(df, seq_length)\n",
    "    train_size = int(len(df)*0.8)\n",
    "    X_train, X_test = X[0:train_size, :], X[train_size:, :]\n",
    "    y_train, y_test = y[0:train_size], y[train_size:]\n",
    "    print(X_train.shape, X_test.shape, y_train.shape, y_test.shape)\n",
    "    scalerX = MinMaxScaler(feature_range =(0,1))\n",
    "    scalery = MinMaxScaler(feature_range = (0,1))\n",
    "\n",
    "    x_train = scalerX.fit_transform(X_train.reshape(-1, num_features*seq_length))\n",
    "    x_test = scalerX.transform(X_test.reshape(-1, num_features*seq_length))\n",
    "    y_train = scalery.fit_transform(y_train.reshape(-1,1))\n",
    "    y_test = scalery.transform(y_test.reshape(-1,1))\n",
    "    x_train = torch.from_numpy(x_train.reshape(-1, seq_length, num_features)).float()\n",
    "    x_test = torch.from_numpy(x_test.reshape(-1, seq_length, num_features)).float()\n",
    "    y_train = torch.from_numpy(y_train).float()\n",
    "    y_test = torch.from_numpy(y_test).float()\n",
    "    print(x_train.shape, x_test.shape, y_train.shape, y_test.shape)\n",
    "    best_mse = float('inf')\n",
    "    best_params = {}\n",
    "    neurons = [200,500,1000]\n",
    "    optimizers = ['adam', 'sgd']\n",
    "\n",
    "    for n in neurons:\n",
    "        for opt in optimizers:\n",
    "            mse, model = evaluate_model(n, opt, x_train, y_train, x_test, y_test)\n",
    "            print(f'Neurons: {n}, Optimizer: {opt}, MSE: {mse}')\n",
    "            if mse < best_mse:\n",
    "                best_mse = mse\n",
    "                best_params = {'neurons': n, 'optimizer': opt}\n",
    "                best_model = model\n",
    "            logger.append({\n",
    "                'seq_length': seq_length,\n",
    "                'neurons': n,\n",
    "                'optimizer': opt,\n",
    "                'mse': mse.item()\n",
    "            })"
   ]
  },
  {
   "cell_type": "code",
   "execution_count": 17,
   "metadata": {
    "colab": {
     "base_uri": "https://localhost:8080/",
     "height": 524
    },
    "executionInfo": {
     "elapsed": 831,
     "status": "ok",
     "timestamp": 1746197368352,
     "user": {
      "displayName": "DANG VU Do",
      "userId": "03979436134324924570"
     },
     "user_tz": -420
    },
    "id": "jEcbsgB_fekf",
    "outputId": "9ae05fe1-28de-4173-9f9f-59361e37e9b8"
   },
   "outputs": [
    {
     "name": "stdout",
     "output_type": "stream",
     "text": [
      "Best MSE: 0.0004663288127630949\n",
      "Best Params: {'neurons': 200, 'optimizer': 'adam'}\n",
      "MSE: 0.0004663288709707558\n"
     ]
    },
    {
     "data": {
      "image/png": "[encoded data removed]",
      "text/plain": [
       "<Figure size 640x480 with 1 Axes>"
      ]
     },
     "metadata": {},
     "output_type": "display_data"
    }
   ],
   "source": [
    "\n",
    "print(f'Best MSE: {best_mse}')\n",
    "print(f'Best Params: {best_params}')\n",
    "\n",
    "# Dự đoán và vẽ đồ thị\n",
    "best_model.eval()\n",
    "with torch.no_grad():\n",
    "    y_pred = best_model(x_test)\n",
    "\n",
    "mse = mean_squared_error(y_test.numpy(), y_pred.numpy())\n",
    "print(f'MSE: {mse}')\n",
    "\n",
    "plt.title(\"LSTM model\")\n",
    "plt.xlabel(\"Day\")\n",
    "plt.ylabel(\"Close Price ($)\")\n",
    "plt.plot(y_test.numpy(), label=\"Test Target\")\n",
    "plt.plot(y_pred.numpy(), label=\"Predict Target\")\n",
    "plt.legend()\n",
    "plt.show()"
   ]
  }
 ],
 "metadata": {
  "colab": {
   "authorship_tag": "ABX9TyN4NRj2KFwpkk0RDaPgLiqi",
   "provenance": []
  },
  "kernelspec": {
   "display_name": "Python 3",
   "name": "python3"
  },
  "language_info": {
   "codemirror_mode": {
    "name": "ipython",
    "version": 3
   },
   "file_extension": ".py",
   "mimetype": "text/x-python",
   "name": "python",
   "nbconvert_exporter": "python",
   "pygments_lexer": "ipython3",
   "version": "3.12.4"
  }
 },
 "nbformat": 4,
 "nbformat_minor": 0
}
