{
 "cells": [
  {
   "cell_type": "code",
   "execution_count": null,
   "metadata": {
    "executionInfo": {
     "elapsed": 22182,
     "status": "ok",
     "timestamp": 1746192789883,
     "user": {
      "displayName": "DANG VU Do",
      "userId": "03979436134324924570"
     },
     "user_tz": -420
    },
    "id": "sWAvRngzesnL"
   },
   "outputs": [],
   "source": [
    "import matplotlib.pyplot as plt\n",
    "import numpy as np\n",
    "import pandas as pd\n",
    "import torch\n",
    "import torch.nn as nn\n",
    "from sklearn.preprocessing import MinMaxScaler\n",
    "from sklearn.metrics import mean_squared_error"
   ]
  },
  {
   "cell_type": "code",
   "execution_count": 2,
   "metadata": {
    "colab": {
     "base_uri": "https://localhost:8080/",
     "height": 424
    },
    "executionInfo": {
     "elapsed": 94,
     "status": "ok",
     "timestamp": 1746192797345,
     "user": {
      "displayName": "DANG VU Do",
      "userId": "03979436134324924570"
     },
     "user_tz": -420
    },
    "id": "dJIuiCJ0eyER",
    "outputId": "f0a28903-a866-4b84-86f8-17c800115f6f"
   },
   "outputs": [],
   "source": [
    "sp500 = pd.read_csv('../data/sp500_stock_prices_2000_2025.csv', parse_dates=['Date'], skiprows=[1]).drop(columns=['Adj Close', 'Volume'])\n",
    "sp500.set_index('Date', inplace=True)\n",
    "ibm = pd.read_csv('../data/ibm_stock_prices_2000_2025.csv', parse_dates=['Date'], skiprows=[1]).drop(columns=['Adj Close', 'Volume'])\n",
    "ibm.set_index('Date', inplace=True)"
   ]
  },
  {
   "cell_type": "code",
   "execution_count": 3,
   "metadata": {
    "executionInfo": {
     "elapsed": 40,
     "status": "ok",
     "timestamp": 1746192816308,
     "user": {
      "displayName": "DANG VU Do",
      "userId": "03979436134324924570"
     },
     "user_tz": -420
    },
    "id": "Js6iUEBfPxFv"
   },
   "outputs": [],
   "source": [
    "def create_sequence(data: pd.DataFrame, seq_length: int):\n",
    "    X = []\n",
    "    y = []\n",
    "    for i in range(len(data) - seq_length):\n",
    "        X.append(data.iloc[i:i + seq_length, :])\n",
    "        y.append(data.iloc[i + seq_length, 3])\n",
    "    return np.array(X), np.array(y)"
   ]
  },
  {
   "cell_type": "markdown",
   "metadata": {
    "id": "FtrbTVZUdPrQ"
   },
   "source": [
    "#define model"
   ]
  },
  {
   "cell_type": "code",
   "execution_count": null,
   "metadata": {
    "executionInfo": {
     "elapsed": 11,
     "status": "ok",
     "timestamp": 1746192825259,
     "user": {
      "displayName": "DANG VU Do",
      "userId": "03979436134324924570"
     },
     "user_tz": -420
    },
    "id": "wfHoMpjBVhVA"
   },
   "outputs": [],
   "source": [
    "class GRUmodel(nn.Module):\n",
    "  def __init__(self, input_size, hidden_size, output_size):\n",
    "    super(GRUmodel, self).__init__()\n",
    "    self.gru = nn.GRU(input_size, hidden_size, batch_first=True)\n",
    "    self.fc = nn.Linear(hidden_size, output_size)\n",
    "  def forward(self, x):\n",
    "    out, _ = self.gru(x)\n",
    "    out = self.fc(out[:, -1, :])\n",
    "    return out"
   ]
  },
  {
   "cell_type": "code",
   "execution_count": null,
   "metadata": {
    "executionInfo": {
     "elapsed": 43,
     "status": "ok",
     "timestamp": 1746193999170,
     "user": {
      "displayName": "DANG VU Do",
      "userId": "03979436134324924570"
     },
     "user_tz": -420
    },
    "id": "zapzOUAjZZ1w"
   },
   "outputs": [],
   "source": [
    "def train_model(model, criterion, optimizer, x_train, y_train, epochs=10, batch_size=30):\n",
    "  model.train()\n",
    "  for epoch in range(epochs):\n",
    "    for i in range(0, len(x_train), batch_size):\n",
    "      x_batch = x_train[i:i+batch_size]\n",
    "      y_batch = y_train[i:i+batch_size]\n",
    "      optimizer.zero_grad()\n",
    "      loss = criterion(model(x_batch),y_batch)\n",
    "      loss.backward()\n",
    "      optimizer.step()\n",
    "  print(f'Epoch [{epoch+1}/{epochs}], Loss: {loss.item():.4f}')"
   ]
  },
  {
   "cell_type": "code",
   "execution_count": null,
   "metadata": {
    "executionInfo": {
     "elapsed": 7,
     "status": "ok",
     "timestamp": 1746194002117,
     "user": {
      "displayName": "DANG VU Do",
      "userId": "03979436134324924570"
     },
     "user_tz": -420
    },
    "id": "Li2AW5I-aSEv"
   },
   "outputs": [],
   "source": [
    "def evaluate_model(neurons, opt, x_train, y_train, x_test, y_test, epochs=10, batch_size=30):\n",
    "  model = GRUmodel(input_size = 4, hidden_size= neurons, output_size=1)\n",
    "  criterion = nn.MSELoss()\n",
    "  if opt == 'adam':\n",
    "    optimizer = torch.optim.Adam(model.parameters(), lr = 0.01)\n",
    "  else:\n",
    "    optimizer = torch.optim.SGD(model.parameters(), lr=0.01)\n",
    "\n",
    "  train_model(model, criterion, optimizer, x_train, y_train, epochs=epochs, batch_size=batch_size)\n",
    "  model.eval()\n",
    "  with torch.no_grad():\n",
    "    y_pred = model(x_test)\n",
    "  mse = criterion(y_test, y_pred)\n",
    "  return mse, model"
   ]
  },
  {
   "cell_type": "code",
   "execution_count": null,
   "metadata": {},
   "outputs": [
    {
     "name": "stdout",
     "output_type": "stream",
     "text": [
      "torch.Size([5095, 15, 4]) torch.Size([1259, 15, 4]) torch.Size([5095, 1]) torch.Size([1259, 1])\n",
      "Epoch [10/10], Loss: 0.0789\n",
      "Ticker: SP500, Length: 15, Neurons: 200, Optimizer: adam, MSE: 0.25823119282722473\n",
      "Epoch [10/10], Loss: 0.0009\n",
      "Ticker: SP500, Length: 15, Neurons: 200, Optimizer: sgd, MSE: 0.04668029397726059\n",
      "Epoch [10/10], Loss: 0.0243\n",
      "Ticker: SP500, Length: 15, Neurons: 500, Optimizer: adam, MSE: 1.0380804538726807\n",
      "Epoch [10/10], Loss: 0.0008\n",
      "Ticker: SP500, Length: 15, Neurons: 500, Optimizer: sgd, MSE: 0.030318383127450943\n",
      "Epoch [10/10], Loss: 0.0159\n",
      "Ticker: SP500, Length: 15, Neurons: 800, Optimizer: adam, MSE: 0.7808650135993958\n",
      "Epoch [10/10], Loss: 0.0008\n",
      "Ticker: SP500, Length: 15, Neurons: 800, Optimizer: sgd, MSE: 0.02479073591530323\n",
      "Epoch [10/10], Loss: 0.0978\n",
      "Ticker: SP500, Length: 15, Neurons: 1000, Optimizer: adam, MSE: 0.37305065989494324\n",
      "Epoch [10/10], Loss: 0.0008\n",
      "Ticker: SP500, Length: 15, Neurons: 1000, Optimizer: sgd, MSE: 0.02790147066116333\n",
      "torch.Size([5095, 20, 4]) torch.Size([1254, 20, 4]) torch.Size([5095, 1]) torch.Size([1254, 1])\n",
      "Epoch [10/10], Loss: 0.0465\n",
      "Ticker: SP500, Length: 20, Neurons: 200, Optimizer: adam, MSE: 0.2101089209318161\n",
      "Epoch [10/10], Loss: 0.0008\n",
      "Ticker: SP500, Length: 20, Neurons: 200, Optimizer: sgd, MSE: 0.046313341706991196\n",
      "Epoch [10/10], Loss: 0.0844\n",
      "Ticker: SP500, Length: 20, Neurons: 500, Optimizer: adam, MSE: 0.8524715900421143\n",
      "Epoch [10/10], Loss: 0.0008\n",
      "Ticker: SP500, Length: 20, Neurons: 500, Optimizer: sgd, MSE: 0.030838530510663986\n",
      "Epoch [10/10], Loss: 0.0053\n",
      "Ticker: SP500, Length: 20, Neurons: 800, Optimizer: adam, MSE: 0.7651522755622864\n",
      "Epoch [10/10], Loss: 0.0008\n",
      "Ticker: SP500, Length: 20, Neurons: 800, Optimizer: sgd, MSE: 0.029658479616045952\n",
      "Epoch [10/10], Loss: 0.0323\n",
      "Ticker: SP500, Length: 20, Neurons: 1000, Optimizer: adam, MSE: 0.5704824924468994\n",
      "Epoch [10/10], Loss: 0.0008\n",
      "Ticker: SP500, Length: 20, Neurons: 1000, Optimizer: sgd, MSE: 0.029482845216989517\n",
      "torch.Size([5095, 30, 4]) torch.Size([1244, 30, 4]) torch.Size([5095, 1]) torch.Size([1244, 1])\n",
      "Epoch [10/10], Loss: 0.0208\n",
      "Ticker: SP500, Length: 30, Neurons: 200, Optimizer: adam, MSE: 0.2654580771923065\n",
      "Epoch [10/10], Loss: 0.0008\n",
      "Ticker: SP500, Length: 30, Neurons: 200, Optimizer: sgd, MSE: 0.0465419739484787\n",
      "Epoch [10/10], Loss: 0.0291\n",
      "Ticker: SP500, Length: 30, Neurons: 500, Optimizer: adam, MSE: 0.2711755335330963\n",
      "Epoch [10/10], Loss: 0.0006\n",
      "Ticker: SP500, Length: 30, Neurons: 500, Optimizer: sgd, MSE: 0.02781541459262371\n",
      "Epoch [10/10], Loss: 0.0563\n",
      "Ticker: SP500, Length: 30, Neurons: 800, Optimizer: adam, MSE: 0.7724527716636658\n",
      "Epoch [10/10], Loss: 0.0006\n",
      "Ticker: SP500, Length: 30, Neurons: 800, Optimizer: sgd, MSE: 0.02731122076511383\n",
      "Epoch [10/10], Loss: 0.0257\n",
      "Ticker: SP500, Length: 30, Neurons: 1000, Optimizer: adam, MSE: 0.611172616481781\n",
      "Epoch [10/10], Loss: 0.0006\n",
      "Ticker: SP500, Length: 30, Neurons: 1000, Optimizer: sgd, MSE: 0.025517581030726433\n",
      "torch.Size([5095, 50, 4]) torch.Size([1224, 50, 4]) torch.Size([5095, 1]) torch.Size([1224, 1])\n",
      "Epoch [10/10], Loss: 0.0088\n",
      "Ticker: SP500, Length: 50, Neurons: 200, Optimizer: adam, MSE: 0.3391129672527313\n",
      "Epoch [10/10], Loss: 0.0015\n",
      "Ticker: SP500, Length: 50, Neurons: 200, Optimizer: sgd, MSE: 0.03565360605716705\n",
      "Epoch [10/10], Loss: 0.0054\n",
      "Ticker: SP500, Length: 50, Neurons: 500, Optimizer: adam, MSE: 0.47922325134277344\n",
      "Epoch [10/10], Loss: 0.0012\n",
      "Ticker: SP500, Length: 50, Neurons: 500, Optimizer: sgd, MSE: 0.024515803903341293\n",
      "Epoch [10/10], Loss: 0.1175\n",
      "Ticker: SP500, Length: 50, Neurons: 800, Optimizer: adam, MSE: 0.17771132290363312\n",
      "Epoch [10/10], Loss: 0.0014\n",
      "Ticker: SP500, Length: 50, Neurons: 800, Optimizer: sgd, MSE: 0.02447357401251793\n",
      "Epoch [10/10], Loss: 0.1411\n",
      "Ticker: SP500, Length: 50, Neurons: 1000, Optimizer: adam, MSE: 0.22465841472148895\n",
      "Epoch [10/10], Loss: 0.0015\n",
      "Ticker: SP500, Length: 50, Neurons: 1000, Optimizer: sgd, MSE: 0.02581116370856762\n",
      "torch.Size([5095, 15, 4]) torch.Size([1259, 15, 4]) torch.Size([5095, 1]) torch.Size([1259, 1])\n",
      "Epoch [10/10], Loss: 0.0024\n",
      "Ticker: IBM, Length: 15, Neurons: 200, Optimizer: adam, MSE: 0.02312908135354519\n",
      "Epoch [10/10], Loss: 0.0030\n",
      "Ticker: IBM, Length: 15, Neurons: 200, Optimizer: sgd, MSE: 0.005392708815634251\n",
      "Epoch [10/10], Loss: 0.1277\n",
      "Ticker: IBM, Length: 15, Neurons: 500, Optimizer: adam, MSE: 0.08740679919719696\n",
      "Epoch [10/10], Loss: 0.0035\n",
      "Ticker: IBM, Length: 15, Neurons: 500, Optimizer: sgd, MSE: 0.00581439258530736\n",
      "Epoch [10/10], Loss: 0.0032\n",
      "Ticker: IBM, Length: 15, Neurons: 800, Optimizer: adam, MSE: 0.23552817106246948\n",
      "Epoch [10/10], Loss: 0.0035\n",
      "Ticker: IBM, Length: 15, Neurons: 800, Optimizer: sgd, MSE: 0.0057989866472780704\n",
      "Epoch [10/10], Loss: 0.0053\n",
      "Ticker: IBM, Length: 15, Neurons: 1000, Optimizer: adam, MSE: 0.10169252008199692\n",
      "Epoch [10/10], Loss: 0.0030\n",
      "Ticker: IBM, Length: 15, Neurons: 1000, Optimizer: sgd, MSE: 0.005066787824034691\n",
      "torch.Size([5095, 20, 4]) torch.Size([1254, 20, 4]) torch.Size([5095, 1]) torch.Size([1254, 1])\n",
      "Epoch [10/10], Loss: 0.0035\n",
      "Ticker: IBM, Length: 20, Neurons: 200, Optimizer: adam, MSE: 0.029558485373854637\n",
      "Epoch [10/10], Loss: 0.0026\n",
      "Ticker: IBM, Length: 20, Neurons: 200, Optimizer: sgd, MSE: 0.006991918198764324\n",
      "Epoch [10/10], Loss: 0.0052\n",
      "Ticker: IBM, Length: 20, Neurons: 500, Optimizer: adam, MSE: 0.06907474249601364\n",
      "Epoch [10/10], Loss: 0.0026\n",
      "Ticker: IBM, Length: 20, Neurons: 500, Optimizer: sgd, MSE: 0.006193665787577629\n",
      "Epoch [10/10], Loss: 0.0100\n",
      "Ticker: IBM, Length: 20, Neurons: 800, Optimizer: adam, MSE: 0.06465175747871399\n",
      "Epoch [10/10], Loss: 0.0018\n",
      "Ticker: IBM, Length: 20, Neurons: 800, Optimizer: sgd, MSE: 0.004668456502258778\n",
      "Epoch [10/10], Loss: 0.0022\n",
      "Ticker: IBM, Length: 20, Neurons: 1000, Optimizer: adam, MSE: 0.14489774405956268\n",
      "Epoch [10/10], Loss: 0.0020\n",
      "Ticker: IBM, Length: 20, Neurons: 1000, Optimizer: sgd, MSE: 0.005101433023810387\n",
      "torch.Size([5095, 30, 4]) torch.Size([1244, 30, 4]) torch.Size([5095, 1]) torch.Size([1244, 1])\n",
      "Epoch [10/10], Loss: 0.0004\n",
      "Ticker: IBM, Length: 30, Neurons: 200, Optimizer: adam, MSE: 0.0018406125018373132\n",
      "Epoch [10/10], Loss: 0.0020\n",
      "Ticker: IBM, Length: 30, Neurons: 200, Optimizer: sgd, MSE: 0.005762740503996611\n",
      "Epoch [10/10], Loss: 0.0020\n",
      "Ticker: IBM, Length: 30, Neurons: 500, Optimizer: adam, MSE: 0.09029366821050644\n",
      "Epoch [10/10], Loss: 0.0020\n",
      "Ticker: IBM, Length: 30, Neurons: 500, Optimizer: sgd, MSE: 0.005706739146262407\n",
      "Epoch [10/10], Loss: 0.0193\n",
      "Ticker: IBM, Length: 30, Neurons: 800, Optimizer: adam, MSE: 0.05701906606554985\n",
      "Epoch [10/10], Loss: 0.0020\n",
      "Ticker: IBM, Length: 30, Neurons: 800, Optimizer: sgd, MSE: 0.005581702571362257\n",
      "Epoch [10/10], Loss: 0.0360\n",
      "Ticker: IBM, Length: 30, Neurons: 1000, Optimizer: adam, MSE: 0.2766318619251251\n",
      "Epoch [10/10], Loss: 0.0020\n",
      "Ticker: IBM, Length: 30, Neurons: 1000, Optimizer: sgd, MSE: 0.00538875674828887\n",
      "torch.Size([5095, 50, 4]) torch.Size([1224, 50, 4]) torch.Size([5095, 1]) torch.Size([1224, 1])\n",
      "Epoch [10/10], Loss: 0.0043\n",
      "Ticker: IBM, Length: 50, Neurons: 200, Optimizer: adam, MSE: 0.04082578793168068\n",
      "Epoch [10/10], Loss: 0.0018\n",
      "Ticker: IBM, Length: 50, Neurons: 200, Optimizer: sgd, MSE: 0.006466743536293507\n",
      "Epoch [10/10], Loss: 0.0011\n",
      "Ticker: IBM, Length: 50, Neurons: 500, Optimizer: adam, MSE: 0.0643339604139328\n",
      "Epoch [10/10], Loss: 0.0016\n",
      "Ticker: IBM, Length: 50, Neurons: 500, Optimizer: sgd, MSE: 0.005417193286120892\n",
      "Epoch [10/10], Loss: 0.0011\n",
      "Ticker: IBM, Length: 50, Neurons: 800, Optimizer: adam, MSE: 0.13373778760433197\n",
      "Epoch [10/10], Loss: 0.0017\n",
      "Ticker: IBM, Length: 50, Neurons: 800, Optimizer: sgd, MSE: 0.005439845845103264\n",
      "Epoch [10/10], Loss: 0.0032\n",
      "Ticker: IBM, Length: 50, Neurons: 1000, Optimizer: adam, MSE: 0.2020954191684723\n",
      "Epoch [10/10], Loss: 0.0015\n",
      "Ticker: IBM, Length: 50, Neurons: 1000, Optimizer: sgd, MSE: 0.004938137251883745\n"
     ]
    }
   ],
   "source": [
    "# Real\n",
    "seq_lengths = [15, 20, 30, 50]\n",
    "# Test\n",
    "# seq_lengths = [15]\n",
    "logger = []\n",
    "num_features = 4\n",
    "for ticker, df in zip(['SP500', 'IBM'], [sp500.copy(), ibm.copy()]):\n",
    "    for seq_length in seq_lengths:\n",
    "        X,y = create_sequence(df, seq_length)\n",
    "        train_size = int(len(df)*0.8)\n",
    "        X_train, X_test = X[0:train_size, :], X[train_size:, :]\n",
    "        y_train, y_test = y[0:train_size], y[train_size:]\n",
    "        scalerX = MinMaxScaler(feature_range =(0,1))\n",
    "        scalery = MinMaxScaler(feature_range = (0,1))\n",
    "\n",
    "        x_train = scalerX.fit_transform(X_train.reshape(-1, num_features*seq_length))\n",
    "        x_test = scalerX.transform(X_test.reshape(-1, num_features*seq_length))\n",
    "        y_train = scalery.fit_transform(y_train.reshape(-1,1))\n",
    "        y_test = scalery.transform(y_test.reshape(-1,1))\n",
    "        x_train = torch.from_numpy(x_train.reshape(-1, seq_length, num_features)).float()\n",
    "        x_test = torch.from_numpy(x_test.reshape(-1, seq_length, num_features)).float()\n",
    "        y_train = torch.from_numpy(y_train).float()\n",
    "        y_test = torch.from_numpy(y_test).float()\n",
    "        print(x_train.shape, x_test.shape, y_train.shape, y_test.shape)\n",
    "        best_mse = float('inf')\n",
    "        best_params = {}\n",
    "        # Real\n",
    "        neurons = [200,500,800, 1000]\n",
    "        # Test\n",
    "        # neurons = [50]\n",
    "        optimizers = ['adam', 'sgd']\n",
    "\n",
    "        for n in neurons:\n",
    "            for opt in optimizers:\n",
    "                mse, model = evaluate_model(n, opt, x_train, y_train, x_test, y_test)\n",
    "                print(f'Ticker: {ticker}, Length: {seq_length}, Neurons: {n}, Optimizer: {opt}, MSE: {mse}')\n",
    "                logger.append({\n",
    "                    'seq_length': seq_length,\n",
    "                    'neurons': n,\n",
    "                    'optimizer': opt,\n",
    "                    'mse': mse.item(),\n",
    "                    'ticker': ticker,\n",
    "                    'model_state_dict': model.state_dict()\n",
    "                })"
   ]
  },
  {
   "cell_type": "code",
   "execution_count": 22,
   "metadata": {},
   "outputs": [],
   "source": [
    "sp500_logger = [log for log in logger if log['Ticker'] == 'SP500']\n",
    "ibm_logger = [log for log in logger if log['Ticker'] == 'IBM']"
   ]
  },
  {
   "cell_type": "code",
   "execution_count": 24,
   "metadata": {},
   "outputs": [],
   "source": [
    "sp500_logger_sorted = sorted(sp500_logger, key=lambda x: x['mse'])\n",
    "ibm_logger_sorted = sorted(ibm_logger, key=lambda x: x['mse'])"
   ]
  },
  {
   "cell_type": "code",
   "execution_count": 27,
   "metadata": {},
   "outputs": [],
   "source": [
    "best_config_sp500 = sp500_logger_sorted[0]\n",
    "best_config_ibm = ibm_logger_sorted[0]"
   ]
  },
  {
   "cell_type": "code",
   "execution_count": 28,
   "metadata": {},
   "outputs": [
    {
     "data": {
      "text/plain": [
       "{'seq_length': 50,\n",
       " 'neurons': 800,\n",
       " 'optimizer': 'sgd',\n",
       " 'mse': 0.02447357401251793,\n",
       " 'Ticker': 'SP500'}"
      ]
     },
     "execution_count": 28,
     "metadata": {},
     "output_type": "execute_result"
    }
   ],
   "source": [
    "best_config_sp500"
   ]
  },
  {
   "cell_type": "code",
   "execution_count": 32,
   "metadata": {},
   "outputs": [
    {
     "data": {
      "text/plain": [
       "{'seq_length': 30,\n",
       " 'neurons': 200,\n",
       " 'optimizer': 'adam',\n",
       " 'mse': 0.0018406125018373132,\n",
       " 'Ticker': 'IBM'}"
      ]
     },
     "execution_count": 32,
     "metadata": {},
     "output_type": "execute_result"
    }
   ],
   "source": [
    "best_config_ibm"
   ]
  },
  {
   "cell_type": "code",
   "execution_count": 33,
   "metadata": {},
   "outputs": [],
   "source": [
    "def run_model(config):\n",
    "    if config['Ticker'] == 'SP500':\n",
    "        X, y = create_sequence(sp500, config['seq_length'])\n",
    "    else:\n",
    "        X,y = create_sequence(ibm, config['seq_length'])\n",
    "    seq_length = config['seq_length']\n",
    "    train_size = int(len(df)*0.8)\n",
    "    X_train, X_test = X[0:train_size, :], X[train_size:, :]\n",
    "    y_train, y_test = y[0:train_size], y[train_size:]\n",
    "    scalerX = MinMaxScaler(feature_range =(0,1))\n",
    "    scalery = MinMaxScaler(feature_range = (0,1))\n",
    "\n",
    "    x_train = scalerX.fit_transform(X_train.reshape(-1, num_features*seq_length))\n",
    "    x_test = scalerX.transform(X_test.reshape(-1, num_features*seq_length))\n",
    "    y_train = scalery.fit_transform(y_train.reshape(-1,1))\n",
    "    y_test = scalery.transform(y_test.reshape(-1,1))\n",
    "    x_train = torch.from_numpy(x_train.reshape(-1, seq_length, num_features)).float()\n",
    "    x_test = torch.from_numpy(x_test.reshape(-1, seq_length, num_features)).float()\n",
    "    y_train = torch.from_numpy(y_train).float()\n",
    "    y_test = torch.from_numpy(y_test).float()\n",
    "\n",
    "    mse,model = evaluate_model(\n",
    "        config['neurons'], config['optimizer'], x_train, y_train, x_test, y_test, epochs=10, batch_size=30\n",
    "    )\n",
    "\n",
    "    model.eval()\n",
    "    with torch.no_grad():\n",
    "        y_pred = model(x_test)\n",
    "    \n",
    "    y_pred = scalery.inverse_transform(y_pred.numpy())\n",
    "    y_test = scalery.inverse_transform(y_test.numpy())\n",
    "    return y_pred, y_test, mse.item(), model"
   ]
  },
  {
   "cell_type": "code",
   "execution_count": null,
   "metadata": {},
   "outputs": [
    {
     "name": "stdout",
     "output_type": "stream",
     "text": [
      "Epoch [10/10], Loss: 0.0015\n"
     ]
    },
    {
     "ename": "ValueError",
     "evalue": "cannot reshape array of size 149280 into shape (200)",
     "output_type": "error",
     "traceback": [
      "\u001b[1;31m---------------------------------------------------------------------------\u001b[0m",
      "\u001b[1;31mValueError\u001b[0m                                Traceback (most recent call last)",
      "Cell \u001b[1;32mIn[30], line 2\u001b[0m\n\u001b[0;32m      1\u001b[0m y_pred_sp500, y_test_sp500, mse_sp500, model_sp500 \u001b[38;5;241m=\u001b[39m run_model(best_config_sp500)\n\u001b[1;32m----> 2\u001b[0m y_pred_ibm, y_test_ibm, mse_ibm, model_ibm \u001b[38;5;241m=\u001b[39m \u001b[43mrun_model\u001b[49m\u001b[43m(\u001b[49m\u001b[43mbest_config_ibm\u001b[49m\u001b[43m)\u001b[49m\n",
      "Cell \u001b[1;32mIn[29], line 13\u001b[0m, in \u001b[0;36mrun_model\u001b[1;34m(config)\u001b[0m\n\u001b[0;32m     10\u001b[0m scalery \u001b[38;5;241m=\u001b[39m MinMaxScaler(feature_range \u001b[38;5;241m=\u001b[39m (\u001b[38;5;241m0\u001b[39m,\u001b[38;5;241m1\u001b[39m))\n\u001b[0;32m     12\u001b[0m x_train \u001b[38;5;241m=\u001b[39m scalerX\u001b[38;5;241m.\u001b[39mfit_transform(X_train\u001b[38;5;241m.\u001b[39mreshape(\u001b[38;5;241m-\u001b[39m\u001b[38;5;241m1\u001b[39m, num_features\u001b[38;5;241m*\u001b[39mseq_length))\n\u001b[1;32m---> 13\u001b[0m x_test \u001b[38;5;241m=\u001b[39m scalerX\u001b[38;5;241m.\u001b[39mtransform(\u001b[43mX_test\u001b[49m\u001b[38;5;241;43m.\u001b[39;49m\u001b[43mreshape\u001b[49m\u001b[43m(\u001b[49m\u001b[38;5;241;43m-\u001b[39;49m\u001b[38;5;241;43m1\u001b[39;49m\u001b[43m,\u001b[49m\u001b[43m \u001b[49m\u001b[43mnum_features\u001b[49m\u001b[38;5;241;43m*\u001b[39;49m\u001b[43mseq_length\u001b[49m\u001b[43m)\u001b[49m)\n\u001b[0;32m     14\u001b[0m y_train \u001b[38;5;241m=\u001b[39m scalery\u001b[38;5;241m.\u001b[39mfit_transform(y_train\u001b[38;5;241m.\u001b[39mreshape(\u001b[38;5;241m-\u001b[39m\u001b[38;5;241m1\u001b[39m,\u001b[38;5;241m1\u001b[39m))\n\u001b[0;32m     15\u001b[0m y_test \u001b[38;5;241m=\u001b[39m scalery\u001b[38;5;241m.\u001b[39mtransform(y_test\u001b[38;5;241m.\u001b[39mreshape(\u001b[38;5;241m-\u001b[39m\u001b[38;5;241m1\u001b[39m,\u001b[38;5;241m1\u001b[39m))\n",
      "\u001b[1;31mValueError\u001b[0m: cannot reshape array of size 149280 into shape (200)"
     ]
    }
   ],
   "source": [
    "y_pred_sp500, y_test_sp500, mse_sp500, model_sp500 = run_model(best_config_sp500)\n",
    "y_pred_ibm, y_test_ibm, mse_ibm, model_ibm = run_model(best_config_ibm)"
   ]
  },
  {
   "cell_type": "code",
   "execution_count": null,
   "metadata": {},
   "outputs": [
    {
     "name": "stdout",
     "output_type": "stream",
     "text": [
      "Epoch [10/10], Loss: 0.0011\n"
     ]
    }
   ],
   "source": []
  },
  {
   "cell_type": "code",
   "execution_count": 39,
   "metadata": {},
   "outputs": [
    {
     "data": {
      "image/png": "[encoded data removed]",
      "text/plain": [
       "<Figure size 640x480 with 2 Axes>"
      ]
     },
     "metadata": {},
     "output_type": "display_data"
    }
   ],
   "source": [
    "# Sketch the results\n",
    "# plt.figure(figsize=(12, 6))\n",
    "plt.subplot(2, 1, 1)\n",
    "plt.plot(y_test_sp500, label='Actual SP500 Prices', color='blue')\n",
    "plt.plot(y_pred_sp500, label='Predicted SP500 Prices', color='orange')\n",
    "plt.title('SP500 Stock Price Prediction')\n",
    "plt.xlabel('Time')\n",
    "plt.ylabel('Price')\n",
    "plt.legend()\n",
    "plt.subplot(2, 1, 2)\n",
    "plt.plot(y_test_ibm, label='Actual IBM Prices', color='blue')\n",
    "plt.plot(y_pred_ibm, label='Predicted IBM Prices', color='orange')\n",
    "plt.title('IBM Stock Price Prediction')\n",
    "plt.xlabel('Time')\n",
    "plt.ylabel('Price')\n",
    "plt.legend()\n",
    "plt.tight_layout()\n",
    "# plt.savefig('stock_price_prediction.png')\n",
    "plt.show()"
   ]
  },
  {
   "cell_type": "code",
   "execution_count": 40,
   "metadata": {},
   "outputs": [],
   "source": [
    "from sklearn.metrics import mean_absolute_error\n",
    "\n",
    "\n",
    "def evaluate_model(y_actual, y_pred,model_name='Model'):\n",
    "    mse = mean_squared_error(y_actual, y_pred)\n",
    "    mae = mean_absolute_error(y_actual, y_pred)\n",
    "    mape = np.mean(np.abs((y_actual - y_pred) / y_actual)) * 100\n",
    "    print(f\"{model_name} - MSE: {mse:.4f}, MAE: {mae:.4f}, MAPE: {mape:.2f}%\")"
   ]
  },
  {
   "cell_type": "code",
   "execution_count": 41,
   "metadata": {},
   "outputs": [
    {
     "name": "stdout",
     "output_type": "stream",
     "text": [
      "SP500 LSTM Model - MSE: 193953.0469, MAE: 399.5040, MAPE: 8.52%\n",
      "IBM LSTM Model - MSE: 103.7740, MAE: 5.7999, MAPE: 3.12%\n"
     ]
    }
   ],
   "source": [
    "for ticker, y_test, y_pred in zip(['SP500', 'IBM'], [y_test_sp500, y_test_ibm], [y_pred_sp500, y_pred_ibm]):\n",
    "    evaluate_model(y_test, y_pred, model_name=f\"{ticker} LSTM Model\")"
   ]
  }
 ],
 "metadata": {
  "colab": {
   "authorship_tag": "ABX9TyN4NRj2KFwpkk0RDaPgLiqi",
   "provenance": []
  },
  "kernelspec": {
   "display_name": "Python 3",
   "name": "python3"
  },
  "language_info": {
   "codemirror_mode": {
    "name": "ipython",
    "version": 3
   },
   "file_extension": ".py",
   "mimetype": "text/x-python",
   "name": "python",
   "nbconvert_exporter": "python",
   "pygments_lexer": "ipython3",
   "version": "3.12.4"
  }
 },
 "nbformat": 4,
 "nbformat_minor": 0
}
